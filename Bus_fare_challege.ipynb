{
  "nbformat": 4,
  "nbformat_minor": 0,
  "metadata": {
    "colab": {
      "name": "Bus_fare_challege.ipynb",
      "provenance": [],
      "collapsed_sections": [],
      "authorship_tag": "ABX9TyN/QbCY6VV3iE+kpO8HFKlx",
      "include_colab_link": true
    },
    "kernelspec": {
      "name": "python3",
      "display_name": "Python 3"
    },
    "language_info": {
      "name": "python"
    }
  },
  "cells": [
    {
      "cell_type": "markdown",
      "metadata": {
        "id": "view-in-github",
        "colab_type": "text"
      },
      "source": [
        "<a href=\"https://colab.research.google.com/github/orii-blackmark/newest/blob/main/Bus_fare_challege.ipynb\" target=\"_parent\"><img src=\"https://colab.research.google.com/assets/colab-badge.svg\" alt=\"Open In Colab\"/></a>"
      ]
    },
    {
      "cell_type": "code",
      "source": [
        "from datetime import date\n",
        "import calendar\n",
        "date = date.today()\n",
        "fare = 0\n",
        "day = calendar.day_name[date.weekday()]\n",
        "#Display todays date\n",
        "print(\"Date: \", date)\n",
        "\n",
        "#Displaying day in short format\n",
        "if (day==\"Monday\"):\n",
        "    print(\"Day: Mon\")\n",
        "elif(day==\"Tuesday\"):\n",
        "    print(\"Day: Tue\")\n",
        "elif(day==\"Wednesday\"):\n",
        "    print(\"Day: Wed\")\n",
        "elif(day==\"Thursday\"):\n",
        "    print(\"Day: Thu\")\n",
        "elif(day==\"Friday\"):\n",
        "    print(\"Day: Fri\")    \n",
        "elif(day==\"Sartuday\"):\n",
        "    print(\"Day: sat\")\n",
        "elif(day==\"Sunday\"):\n",
        "    print(\"Day: Sun\")\n",
        "\n",
        "#Calculating fare for each day\n",
        "if(day==\"Monday\" or day==\"Tuesday\" or day==\"Wednesday\" or day==\"Thursday\" or day==\"Friday\"):\n",
        "  fare = 100\n",
        "  print(\"Fare: \",fare)\n",
        "elif(day==\"Sartuday\"):\n",
        "  fare = 60\n",
        "  print(\"Fare: \",fare)\n",
        "elif(day == \"Sunday\"):\n",
        "  fare = 80  \n",
        "  print(\"Fare: \",fare)\n",
        "\n",
        "\n"
      ],
      "metadata": {
        "id": "FQF3EQI0VIJB",
        "outputId": "bc6e4c05-ce4d-4db0-8336-a5eba809b788",
        "colab": {
          "base_uri": "https://localhost:8080/"
        }
      },
      "execution_count": 24,
      "outputs": [
        {
          "output_type": "stream",
          "name": "stdout",
          "text": [
            "Date:  2022-07-07\n",
            "Day: Thu\n",
            "Fare:  60\n"
          ]
        }
      ]
    }
  ]
}